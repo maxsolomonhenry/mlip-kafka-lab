{
 "cells": [
  {
   "cell_type": "markdown",
   "id": "59b2d799",
   "metadata": {},
   "source": [
    "# Kafka Demo\n",
    "\n",
    "### Connect to Kafka Broker Server \n",
    "```\n",
    "ssh -L <local_port>:localhost:<remote_port> <user>@<remote_server> -NTf\n",
    "```\n",
    "Find how to connect to Kafka server on Canvas lab 2 assignment page.\n",
    "\n",
    "### To kill connection\n",
    "```\n",
    "lsof -ti:<local_port> | xargs kill -9\n",
    "```\n",
    "\n",
    "### Setup\n",
    "```\n",
    "python -m pip install kafka-python\n",
    "```"
   ]
  },
  {
   "cell_type": "code",
   "execution_count": 1,
   "id": "560fd2bb",
   "metadata": {
    "ExecuteTime": {
     "end_time": "2024-09-03T20:53:48.295316Z",
     "start_time": "2024-09-03T20:53:48.290645Z"
    }
   },
   "outputs": [],
   "source": [
    "import os\n",
    "from datetime import datetime\n",
    "from json import dumps, loads\n",
    "from time import sleep\n",
    "from random import randint\n",
    "from kafka import KafkaConsumer, KafkaProducer\n",
    "\n",
    "from dotenv import load_dotenv\n",
    "load_dotenv()\n",
    "\n",
    "# Update this for your own recitation section :)\n",
    "topic = 'mlip-kafka-topic-0' # x could be b, c, d, e, f"
   ]
  },
  {
   "cell_type": "markdown",
   "id": "0eb9dd6f",
   "metadata": {},
   "source": [
    "### Producer Mode -> Writes Data to Broker"
   ]
  },
  {
   "cell_type": "code",
   "execution_count": 4,
   "id": "aa4679a1",
   "metadata": {},
   "outputs": [
    {
     "name": "stdout",
     "output_type": "stream",
     "text": [
      "Writing to Kafka Broker\n",
      "Writing: 2025-10-28 22:10:57,New York,20ºC\n",
      "Writing: 2025-10-28 22:10:58,Montreal,23ºC\n",
      "Writing: 2025-10-28 22:10:59,Montreal,21ºC\n",
      "Writing: 2025-10-28 22:11:00,Toronto,26ºC\n",
      "Writing: 2025-10-28 22:11:01,Montreal,23ºC\n",
      "Writing: 2025-10-28 22:11:02,Los Angeles,18ºC\n",
      "Writing: 2025-10-28 22:11:03,Los Angeles,25ºC\n",
      "Writing: 2025-10-28 22:11:04,Montreal,21ºC\n",
      "Writing: 2025-10-28 22:11:05,Toronto,22ºC\n",
      "Writing: 2025-10-28 22:11:06,Montreal,26ºC\n"
     ]
    }
   ],
   "source": [
    "# Create a producer to write data to kafka\n",
    "# Ref: https://kafka-python.readthedocs.io/en/master/apidoc/KafkaProducer.html\n",
    "\n",
    "# [TODO]: Replace '...' with the address of your Kafka bootstrap server\n",
    "producer = KafkaProducer(bootstrap_servers=os.environ['CONFLUENT_BOOTSTRAP_SERVER'],\n",
    "                         security_protocol='SASL_SSL',\n",
    "                         sasl_mechanism='PLAIN',\n",
    "                         sasl_plain_username=os.environ['CONFLUENT_API_KEY'],\n",
    "                         sasl_plain_password=os.environ['CONFLUENT_API_SECRET'],\n",
    "                         value_serializer=lambda x: dumps(x).encode('utf-8'))\n",
    "\n",
    "# [TODO]: Add cities of your choice\n",
    "cities = ['Montreal', 'Toronto', 'New York', 'Los Angeles']\n",
    "\n",
    "# Write data via the producer\n",
    "print(\"Writing to Kafka Broker\")\n",
    "for i in range(10):\n",
    "    data = f'{datetime.now().strftime(\"%Y-%m-%d %H:%M:%S\")},{cities[randint(0,len(cities)-1)]},{randint(18, 32)}ºC'\n",
    "    print(f\"Writing: {data}\")\n",
    "    producer.send(topic=topic, value=data)\n",
    "    sleep(1)"
   ]
  },
  {
   "cell_type": "markdown",
   "id": "a45bbace",
   "metadata": {},
   "source": [
    "### Consumer Mode -> Reads Data from Broker"
   ]
  },
  {
   "cell_type": "code",
   "execution_count": 12,
   "id": "a5e2f59f",
   "metadata": {},
   "outputs": [
    {
     "name": "stdout",
     "output_type": "stream",
     "text": [
      "Reading Kafka Broker\n",
      "2025-10-28 22:09:53,Montreal,19ºC\n",
      "2025-10-28 22:10:58,Montreal,23ºC\n",
      "2025-10-28 22:10:59,Montreal,21ºC\n",
      "2025-10-28 22:11:06,Montreal,26ºC\n",
      "2025-10-28 22:09:58,Montreal,29ºC\n",
      "2025-10-28 22:11:02,Los Angeles,18ºC\n",
      "2025-10-28 22:09:52,Montreal,23ºC\n",
      "2025-10-28 22:09:57,Montreal,25ºC\n",
      "2025-10-28 22:09:59,Montreal,22ºC\n",
      "2025-10-28 22:11:01,Montreal,23ºC\n",
      "2025-10-28 22:11:03,Los Angeles,25ºC\n",
      "2025-10-28 22:11:05,Toronto,22ºC\n",
      "2025-10-28 22:11:00,Toronto,26ºC\n",
      "2025-10-28 22:09:54,Montreal,20ºC\n",
      "2025-10-28 22:09:55,Montreal,22ºC\n",
      "2025-10-28 22:09:56,Montreal,21ºC\n",
      "2025-10-28 22:10:00,Montreal,28ºC\n",
      "2025-10-28 22:10:01,Montreal,25ºC\n",
      "2025-10-28 22:10:57,New York,20ºC\n",
      "2025-10-28 22:11:04,Montreal,21ºC\n"
     ]
    }
   ],
   "source": [
    "# Create a consumer to read data from kafka\n",
    "# Ref: https://kafka-python.readthedocs.io/en/master/apidoc/KafkaConsumer.html\n",
    "\n",
    "# [TODO]: Complete the missing ... parameters/arguments using the Kafka documentation\n",
    "consumer = KafkaConsumer(\n",
    "    topic,\n",
    "    bootstrap_servers=os.environ['CONFLUENT_BOOTSTRAP_SERVER'],\n",
    "    security_protocol='SASL_SSL',\n",
    "    sasl_mechanism='PLAIN',\n",
    "    sasl_plain_username=os.environ['CONFLUENT_API_KEY'],\n",
    "    sasl_plain_password=os.environ['CONFLUENT_API_SECRET'],\n",
    "    auto_offset_reset='earliest',\n",
    "    # Commit that an offset has been read\n",
    "    enable_auto_commit=True,\n",
    "    # How often to tell Kafka, an offset has been read\n",
    "    auto_commit_interval_ms=1000,\n",
    "    consumer_timeout_ms=1e4\n",
    ")\n",
    "\n",
    "print('Reading Kafka Broker')\n",
    "for message in consumer:\n",
    "    message = message.value.decode()\n",
    "    # Default message.value type is bytes!\n",
    "    print(loads(message))\n",
    "    os.system(f\"echo {message} >> kafka_log.csv\")"
   ]
  },
  {
   "cell_type": "markdown",
   "id": "38927152",
   "metadata": {},
   "source": [
    "# Use kcat!\n",
    "It's a CLI (Command Line Interface). Previously known as kafkacat\n",
    "\n",
    "\n",
    "Ref: https://docs.confluent.io/platform/current/app-development/kafkacat-usage.html"
   ]
  },
  {
   "cell_type": "code",
   "execution_count": 25,
   "id": "e19b63da",
   "metadata": {},
   "outputs": [
    {
     "name": "stdout",
     "output_type": "stream",
     "text": [
      "\"2025-10-28 22:09:52,Montreal,23\\u00baC\"\n",
      "\"2025-10-28 22:09:57,Montreal,25\\u00baC\"\n",
      "\"2025-10-28 22:09:59,Montreal,22\\u00baC\"\n",
      "\"2025-10-28 22:11:01,Montreal,23\\u00baC\"\n",
      "\"2025-10-28 22:11:03,Los Angeles,25\\u00baC\"\n",
      "\"2025-10-28 22:11:05,Toronto,22\\u00baC\"\n",
      "\"2025-10-28 22:09:56,Montreal,21\\u00baC\"\n",
      "\"2025-10-28 22:10:00,Montreal,28\\u00baC\"\n",
      "\"2025-10-28 22:10:01,Montreal,25\\u00baC\"\n",
      "\"2025-10-28 22:10:57,New York,20\\u00baC\"\n",
      "\"2025-10-28 22:11:04,Montreal,21\\u00baC\"\n",
      "\"2025-10-28 22:11:00,Toronto,26\\u00baC\"\n",
      "%6|1761705575.015|GETSUBSCRIPTIONS|rdkafka#consumer-1| [thrd:main]: Telemetry client instance id changed from AAAAAAAAAAAAAAAAAAAAAA to B8o/NBzdTy6EMSebUFfqeQ\n",
      "\"2025-10-28 22:09:53,Montreal,19\\u00baC\"\n",
      "\"2025-10-28 22:10:58,Montreal,23\\u00baC\"\n",
      "\"2025-10-28 22:10:59,Montreal,21\\u00baC\"\n",
      "\"2025-10-28 22:11:06,Montreal,26\\u00baC\"\n",
      "\"2025-10-28 22:09:58,Montreal,29\\u00baC\"\n",
      "\"2025-10-28 22:11:02,Los Angeles,18\\u00baC\"\n",
      "\"2025-10-28 22:09:54,Montreal,20\\u00baC\"\n",
      "\"2025-10-28 22:09:55,Montreal,22\\u00baC\"\n",
      "% Reached end of topic mlip-kafka-topic-0 [2] at offset 6\n",
      "% Reached end of topic mlip-kafka-topic-0 [1] at offset 4\n",
      "% Reached end of topic mlip-kafka-topic-0 [3] at offset 5\n",
      "% Reached end of topic mlip-kafka-topic-0 [4] at offset 1\n",
      "% Reached end of topic mlip-kafka-topic-0 [0] at offset 2\n",
      "% Reached end of topic mlip-kafka-topic-0 [5] at offset 2: exiting\n"
     ]
    }
   ],
   "source": [
    "#kcat command: connect to local Kafka broker, specify a topic, and consume messages from the earliest offset\n",
    "\n",
    "!export $(grep -v '^#' .env | xargs)\n",
    "!kcat -b $CONFLUENT_BOOTSTRAP_SERVER -t mlip-kafka-topic-0 -X security.protocol=SASL_SSL -X sasl.mechanism=PLAIN -X sasl.username=$CONFLUENT_API_KEY -X sasl.password=$CONFLUENT_API_SECRET -C -o earliest -e"
   ]
  },
  {
   "cell_type": "code",
   "execution_count": null,
   "id": "d6c53732",
   "metadata": {},
   "outputs": [],
   "source": []
  }
 ],
 "metadata": {
  "kernelspec": {
   "display_name": "mlip-kafka-lab",
   "language": "python",
   "name": "python3"
  },
  "language_info": {
   "codemirror_mode": {
    "name": "ipython",
    "version": 3
   },
   "file_extension": ".py",
   "mimetype": "text/x-python",
   "name": "python",
   "nbconvert_exporter": "python",
   "pygments_lexer": "ipython3",
   "version": "3.10.18"
  }
 },
 "nbformat": 4,
 "nbformat_minor": 5
}
